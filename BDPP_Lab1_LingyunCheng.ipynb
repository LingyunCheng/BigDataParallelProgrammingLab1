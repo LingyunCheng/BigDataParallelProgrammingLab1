{
 "cells": [
  {
   "cell_type": "markdown",
   "metadata": {},
   "source": [
    "# BDPP Course lab 1\n",
    "\n",
    "Welcome to the first lab of BDPP course!\n",
    "\n",
    "This notebook guides you through the basic concepts to start working with Spark, including how to set up your environment, create and analyze data sets, work with data files, and write Spark code."
   ]
  },
  {
   "cell_type": "markdown",
   "metadata": {},
   "source": [
    "## About Spark\n",
    "Spark is a fast and general-purpose cluster computing system. It provides high-level APIs in Java, Scala, Python and R, and an optimized engine that supports general execution graphs. It also supports a rich set of higher-level tools including Spark SQL for processing structured data, MLlib for machine learning, GraphX for graph processing, and Spark Streaming.\n",
    "\n",
    "<img src='files/spark.png' width=\"50%\" height=\"50%\"></img>\n",
    "\n",
    "\n",
    "A Spark program has a driver program and worker programs. Worker programs run on cluster nodes or in local threads. Data sets are distributed\u001d",
    " across workers. \n",
    "\n",
    "<img src='files/Spark Architecture.png' width=\"50%\" height=\"50%\"></img>"
   ]
  },
  {
   "cell_type": "markdown",
   "metadata": {},
   "source": [
    "<a id=\"sparkinstallation\"></a>\n",
    "## 1. Three methods of running Spark\n",
    "\n",
    "The first step is to get familiar with different ways of accessing the Spark programming environment. In this lab, we introduce you three methods to do so (two of them run on your local computer, and the other one uses the IBM cloud platform). You are required to run this notebook on your local computer. Alternatively, The cloud platform can be utilized for the cases where you want to scale up your process.\n",
    "\n",
    "<a id=\"sparkinstallation1\"></a>\n",
    "\n",
    "\n",
    "### 1.1 Set up a local environment\n",
    "\n",
    "This notebook uses pySpark, the Python API for Spark. You should follow the following steps to install PySpark locally:\n",
    "- Install Python\n",
    "- Install Java\n",
    "- Download Spark\n",
    "- Install pyspark\n",
    "\n",
    "#### Install Python\n",
    "\n",
    "We use **Python** as the programming language, **Anaconda** as the virtual environment and package manager, and finally **Jupyter notebook** as the development environment. If you haven't installed Python yet, we recommend you to install it through [Anaconda](https://anaconda.org/). Note that this lab is not intended to teach python programming. So, it is recommended to have some python programming background.\n",
    "\n",
    "Please follow these steps to prepare the development environment:\n",
    "- Download Anaconda (Python 3.7 version) from https://www.anaconda.com/distribution/, and install it on your machine.\n",
    "- Create an environment with Python 3.7 and use `pp_course` as the environment name. You can find information about creating and managing anaconda environments using navigator interface from https://docs.anaconda.com/anaconda/navigator/tutorials/manage-environments/#creating-a-new-environment. You can also do it through shell commands https://docs.conda.io/projects/conda/en/latest/user-guide/tasks/manage-environments.html. Here is a list of useful commands:\n",
    "    - `conda create -n pp_course python=3.7`\n",
    "    - `conda env list`\n",
    "    - `source activate pp_course` for unix/mac, and `conda activate pp_course` for windows\n",
    "- Jupyter editor should be installed on your environment by default. If it is not, use Anaconda navigator to install it. To do so, first, go to the Home tab, then select pp_course environment. Finally, from the list of applications, find Jupyter Notebook, and install it. \n",
    "- Now you should be able to launch Jupyter. This launches a new browser window (or a new tab) showing the notebook Dashboard, a sort of control panel that allows (among other things) to select which notebook to open. You can also launch Jupyter using shell command. To do so, first, activate `pp_course` environment, then run the following command: `jupyter notebook`\n",
    "- Play with the interface and try to figure out its functionalities. You can find lots of useful information about notebook from the following [link](https://buildmedia.readthedocs.org/media/pdf/jupyter-notebook/latest/jupyter-notebook.pdf).\n",
    "\n",
    "#### Install Java\n",
    "\n",
    "You need Java installed on your machine since Spark runs on top of JVM. Download and install Java SDK 8. You can download it from the following link:\n",
    "http://www.oracle.com/technetwork/pt/java/javase/downloads/jdk8-downloads-2133151.html\n",
    "\n",
    "Add `JAVA_HOME` environment variable to your system (**Note:** This step depends on your operating system.):\n",
    "- on Unix/mac: `export JAVA_HOME=\"/path/to/the/java/folder\"`\n",
    "- on Windows see this [link](https://confluence.atlassian.com/doc/setting-the-java_home-variable-in-windows-8895.html)\n",
    "\n",
    "#### Download Spark\n",
    "\n",
    "Spark is an open-source project under Apache Software Foundation. Spark can be downloaded here:\n",
    "\n",
    "https://spark.apache.org/downloads.html\n",
    "\n",
    "First, choose a Spark release, e,g, 2.4.X, and choose pre-build for Apache Hadoop, e,g, 2.7. Next, click on the download link and download the file. We recommend moving the file to your home directory, uncompress it, and maybe rename it to a shorter name such as `spark`. Now the spark file should be located here.\n",
    "\n",
    "`/your/home/directory/spark`\n",
    "\n",
    "Add `SPARK_HOME` environment variable to your system (**Note:** This step depends on your operating system):\n",
    "\n",
    "- on Unix/mac, e.g.: `export SPARK_HOME=\"/your/home/directory/spark/python\"` and then `export PATH=\"$SPARK_HOME/bin:$PATH\"`\n",
    "- on Windows: Similarly to the Java installation, set `SPARK_HOME` and add `%SPARK_HOME%\\bin` in PATH variable in System Variables.\n",
    "\n",
    "<a id=\"sparkinstallation2\"></a>\n",
    "\n",
    "Now, launch your terminal and run the command below to test the installation.\n",
    "\n",
    "`spark-shell`\n",
    "\n",
    "You should be able to see this:\n",
    "\n",
    "```\n",
    "Welcome to\n",
    "      ____              __\n",
    "     / __/__  ___ _____/ /__\n",
    "    _\\ \\/ _ \\/ _ `/ __/  '_/\n",
    "   /__ / .__/\\_,_/_/ /_/\\_\\   version 2.4.3\n",
    "      /_/\n",
    "```\n",
    "#### Install pyspark\n",
    "\n",
    "The final step is to install pyspark. Run the following command to install pyspark. (if you are using python without Anaconda, use the following alternative command: `pip install pyspark`)"
   ]
  },
  {
   "cell_type": "code",
   "execution_count": null,
   "metadata": {},
   "outputs": [],
   "source": [
    "# Installing pyspark package in the current Jupyter kernel\n",
    "import sys\n",
    "!conda install --yes --prefix {sys.prefix} -c conda-forge pyspark"
   ]
  },
  {
   "cell_type": "markdown",
   "metadata": {},
   "source": [
    "### 1.2 Use a docker image\n",
    "\n",
    "Perhaps one of the easiest approaches for setting up a Spark environment is to use an available docker image. Setting up a Docker container on your local machine is pretty simple.  Download docker from the [docker website](https://www.docker.com/get-started) and run the following command in the terminal:\n",
    "\n",
    "`docker run -it -p 8888:8888 jupyter/pyspark-notebook`\n",
    "\n",
    "navigate to http://localhost:8888 in your browser, and you see the following screen:\n",
    "\n",
    "<img src=files/docker1.png width=\"500\">\n",
    "\n",
    "In your terminal, you should see a token:\n",
    "\n",
    "<img src=files/docker2.png width=\"500\">\n",
    "\n",
    "Copy and paste this token, the numbers following `/?token=`, into the token textbook. With that done, you are all set to go! Spark is already installed in the container. You are all ready to open up a notebook and start writing some Spark code. \n",
    "\n",
    "<a id=\"sparkinstallation3\"></a>\n",
    "\n"
   ]
  },
  {
   "cell_type": "markdown",
   "metadata": {},
   "source": [
    "### 1.3 Use a cloud platform\n",
    "\n",
    "The final approach that we introduce for accessing Spark is through a cloud platform. The cloud platform, along with Spark enable you to scale up your application according to your demands easily. In this section, we use the IBM cloud as our platform and IBM Watson Studio as our developing environment. The first step is to go to https://www.ibm.com/cloud and create a free account.\n",
    "<img src='files/ibm cloud1.png' width=\"800\">\n",
    "\n",
    "Next, log in to your account and confirm the required Acknowledgements by IBM. Now, you should be able to see your dashboard. According to the image below, search for Watson studio and run it.\n",
    "\n",
    "<img src='files/search watson.png' width=\"800\">\n",
    "\n",
    "Next, select the Lite plan and create your kernel. Remember that you can have only one instance of a Lite plan per service. To create a new instance, you have to delete your existing Lite plan instance.\n",
    "\n",
    "<img src='files/select watson plan.png' width=\"800\">\n",
    "\n",
    "And get started working.\n",
    "\n",
    "<img src='files/watson start2.png' width=\"800\">\n",
    "\n",
    "Now you must be able to create a Watson Studio project and add an empty notebook to your project. This opens an empty jupyter notebook with SparkContext available for use."
   ]
  },
  {
   "cell_type": "markdown",
   "metadata": {},
   "source": [
    "<a id=\"sparkcontext\"></a>\n",
    "## 2. Work with the SparkContext and SparkSession objects\n",
    "\n",
    "The Spark driver application uses the SparkContext object to allow a programming interface to interact with the driver application. The SparkContext object tells Spark how and where to access a cluster.\n",
    "\n",
    "The Watson Studio notebook environment predefines the Spark context for you. The object name to access the Spark session is `sc`.\n",
    "\n",
    "In other environments, you need to pick an interpreter (for example, pyspark for Python) and create a SparkConf object to initialize a SparkContext object. For example:\n",
    "<br>\n",
    "`from pyspark import SparkContext, SparkConf`<br>\n",
    "`conf = SparkConf().setAppName(appName).setMaster(master)`<br>\n",
    "`sc = SparkContext(conf=conf)`<br>"
   ]
  },
  {
   "cell_type": "markdown",
   "metadata": {},
   "source": [
    "<a id=\"sparkcontext1\"></a>\n",
    "### 2.1 Invoke the SparkContext\n",
    "Run the following cell to invoke the SparkContext:"
   ]
  },
  {
   "cell_type": "code",
   "execution_count": 1,
   "metadata": {},
   "outputs": [
    {
     "data": {
      "text/html": [
       "\n",
       "        <div>\n",
       "            <p><b>SparkContext</b></p>\n",
       "\n",
       "            <p><a href=\"http://0d5f93240bb9:4040\">Spark UI</a></p>\n",
       "\n",
       "            <dl>\n",
       "              <dt>Version</dt>\n",
       "                <dd><code>v2.4.5</code></dd>\n",
       "              <dt>Master</dt>\n",
       "                <dd><code>local[*]</code></dd>\n",
       "              <dt>AppName</dt>\n",
       "                <dd><code>Spark Lab1</code></dd>\n",
       "            </dl>\n",
       "        </div>\n",
       "        "
      ],
      "text/plain": [
       "<SparkContext master=local[*] appName=Spark Lab1>"
      ]
     },
     "execution_count": 1,
     "metadata": {},
     "output_type": "execute_result"
    }
   ],
   "source": [
    "from pyspark import SparkContext, SparkConf\n",
    "conf = SparkConf().setAppName('Spark Lab1')\n",
    "sc = SparkContext(conf=conf)\n",
    "sc"
   ]
  },
  {
   "cell_type": "markdown",
   "metadata": {},
   "source": [
    "__Remember__ that you can create only one instance of the `SparkContext` object (`sc`) in each pyspark session. This means that if you run the above code snippet again, you get the following error:\n",
    "\n",
    "`ValueError: Cannot run multiple SparkContexts at once; existing SparkContext(app=My app, master=local) created by __init__ ... ` \n",
    "\n",
    "Moreover, you have to close your Spark session at the end of your program. This can be done by calling the `stop` function: `sc.stop()`. It ensures that you will not face any problem connecting to Spark again.\n",
    "\n",
    "The same goes for the `SparkSession` object."
   ]
  },
  {
   "cell_type": "markdown",
   "metadata": {},
   "source": [
    "<a id=\"sparkcontext2\"></a>\n",
    "### 2.2 Check the Spark version\n",
    "Check the version of the Spark driver application:"
   ]
  },
  {
   "cell_type": "code",
   "execution_count": 2,
   "metadata": {},
   "outputs": [
    {
     "data": {
      "text/plain": [
       "'2.4.5'"
      ]
     },
     "execution_count": 2,
     "metadata": {},
     "output_type": "execute_result"
    }
   ],
   "source": [
    "sc.version"
   ]
  },
  {
   "cell_type": "markdown",
   "metadata": {},
   "source": [
    "### 2.3 SparkSession\n",
    "\n",
    "Prior to Spark 2.0.0, `sparkContext` was used as a channel to access all spark functionality. From Spark 2.0.0 onwards, `SparkSession` provides a single point of entry to interact with underlying Spark functionality and allows programming Spark with DataFrame and Dataset APIs.\n",
    "\n",
    "The Watson Studio notebook environment predefines the Spark session for you. The object name to access Spark session is `spark`.\n",
    "\n",
    "In other environments, you need to pick an interpreter (for example, pyspark for Python) and create a Spark session object. For example:"
   ]
  },
  {
   "cell_type": "code",
   "execution_count": 3,
   "metadata": {},
   "outputs": [],
   "source": [
    "from pyspark.sql import SparkSession\n",
    "\n",
    "spark = SparkSession \\\n",
    "    .builder \\\n",
    "    .appName(\"Spark Lab1\") \\\n",
    "    .config(\"spark.some.config.option\", \"some-value\") \\\n",
    "    .getOrCreate()"
   ]
  },
  {
   "cell_type": "code",
   "execution_count": 4,
   "metadata": {},
   "outputs": [
    {
     "data": {
      "text/html": [
       "\n",
       "            <div>\n",
       "                <p><b>SparkSession - in-memory</b></p>\n",
       "                \n",
       "        <div>\n",
       "            <p><b>SparkContext</b></p>\n",
       "\n",
       "            <p><a href=\"http://0d5f93240bb9:4040\">Spark UI</a></p>\n",
       "\n",
       "            <dl>\n",
       "              <dt>Version</dt>\n",
       "                <dd><code>v2.4.5</code></dd>\n",
       "              <dt>Master</dt>\n",
       "                <dd><code>local[*]</code></dd>\n",
       "              <dt>AppName</dt>\n",
       "                <dd><code>Spark Lab1</code></dd>\n",
       "            </dl>\n",
       "        </div>\n",
       "        \n",
       "            </div>\n",
       "        "
      ],
      "text/plain": [
       "<pyspark.sql.session.SparkSession at 0x7f09419e9750>"
      ]
     },
     "execution_count": 4,
     "metadata": {},
     "output_type": "execute_result"
    }
   ],
   "source": [
    "spark"
   ]
  },
  {
   "cell_type": "markdown",
   "metadata": {},
   "source": [
    "All the functionality available with sparkContext are also available in sparkSession. If you need to access `SparkContext` through SparkSession use `sparkContext` attribute:"
   ]
  },
  {
   "cell_type": "code",
   "execution_count": 5,
   "metadata": {},
   "outputs": [
    {
     "data": {
      "text/html": [
       "\n",
       "        <div>\n",
       "            <p><b>SparkContext</b></p>\n",
       "\n",
       "            <p><a href=\"http://0d5f93240bb9:4040\">Spark UI</a></p>\n",
       "\n",
       "            <dl>\n",
       "              <dt>Version</dt>\n",
       "                <dd><code>v2.4.5</code></dd>\n",
       "              <dt>Master</dt>\n",
       "                <dd><code>local[*]</code></dd>\n",
       "              <dt>AppName</dt>\n",
       "                <dd><code>Spark Lab1</code></dd>\n",
       "            </dl>\n",
       "        </div>\n",
       "        "
      ],
      "text/plain": [
       "<SparkContext master=local[*] appName=Spark Lab1>"
      ]
     },
     "execution_count": 5,
     "metadata": {},
     "output_type": "execute_result"
    }
   ],
   "source": [
    "spark.sparkContext"
   ]
  },
  {
   "cell_type": "markdown",
   "metadata": {},
   "source": [
    "### 2.4. Speed benchmark (Spark VS Pandas)\n",
    "\n",
    "Now, let's use the `sparkSession` object to run a simple benchmark by comparing reading a relatively big CSV file with pandas VS Spark. Although we are still running Spark on our local computer, it ends up reading in the CSV much faster than pandas. This demonstrates how Spark dataframes are much faster when compared to their pandas equivalent.\n",
    "\n",
    "For this experiment, we use a somewhat large Vermont vendor dataset. This data is accessible through [this link](https://data.vermont.gov/Finance/Vermont-Vendor-Payments/786x-sbp3). On this link, please select export and then choose CSV format. Download the file rename it to `Vermont_Vendor_Payments.csv` and place it in the `files` folder next to this notebook. Now, run the following two code snippets."
   ]
  },
  {
   "cell_type": "code",
   "execution_count": 6,
   "metadata": {
    "scrolled": true
   },
   "outputs": [
    {
     "name": "stdout",
     "output_type": "stream",
     "text": [
      "380 ms ± 58.9 ms per loop (mean ± std. dev. of 7 runs, 1 loop each)\n"
     ]
    }
   ],
   "source": [
    "%%timeit\n",
    "\n",
    "# loading csv file with Spark\n",
    "housing = spark.read.csv(\"files/Vermont_Vendor_Payments.csv\", header=\"true\")"
   ]
  },
  {
   "cell_type": "code",
   "execution_count": 7,
   "metadata": {},
   "outputs": [],
   "source": [
    "# installl pandas library if you don't have it.\n",
    "\n",
    "import pandas as pd"
   ]
  },
  {
   "cell_type": "code",
   "execution_count": 8,
   "metadata": {},
   "outputs": [
    {
     "name": "stdout",
     "output_type": "stream",
     "text": [
      "4.02 s ± 474 ms per loop (mean ± std. dev. of 7 runs, 1 loop each)\n"
     ]
    }
   ],
   "source": [
    "%%timeit\n",
    "\n",
    "# loading csv file with Pandas\n",
    "df_pandas = pd.read_csv(\"files/Vermont_Vendor_Payments.csv\")"
   ]
  },
  {
   "cell_type": "markdown",
   "metadata": {},
   "source": [
    "__Question__: Based on your experiment, how much faster does Spark run compared to Pandas?"
   ]
  },
  {
   "cell_type": "markdown",
   "metadata": {},
   "source": [
    "Spark runs around 10 times faster than Pandas."
   ]
  },
  {
   "cell_type": "markdown",
   "metadata": {},
   "source": [
    "### 2.5. Speed benchmark (π calculation)\n",
    "\n",
    "Spark can also be used for compute-intensive tasks. This code estimates π by \"throwing darts\" at a circle. We pick random points in the unit square ((0, 0) to (1,1)) and see how many fall in the unit circle. The fraction should be π / 4, so we use this to get our estimate."
   ]
  },
  {
   "cell_type": "code",
   "execution_count": 9,
   "metadata": {},
   "outputs": [],
   "source": [
    "# π calculation code\n",
    "\n",
    "import random\n",
    "\n",
    "num_samples = 10000000 # you can change this number, e.g. try 1000000\n",
    "\n",
    "def inside(p):\n",
    "    x, y = random.random(), random.random()\n",
    "    return x*x + y*y < 1\n",
    "\n",
    "def spark_pi_calc():\n",
    "    # here we do the pi calcaulation using Spark\n",
    "    count = spark.sparkContext.parallelize(range(0, num_samples)).filter(inside).count()\n",
    "    return (4.0 * count / num_samples)\n",
    "\n",
    "def python_pi_calc():\n",
    "    # here we do the same calculation with python list comprehension\n",
    "    count = sum([inside(_) for throw in range(num_samples)])\n",
    "    return (4.0 * count / num_samples)"
   ]
  },
  {
   "cell_type": "code",
   "execution_count": 10,
   "metadata": {},
   "outputs": [
    {
     "name": "stdout",
     "output_type": "stream",
     "text": [
      "[Spark] Pi is roughly: 3.14157\n"
     ]
    }
   ],
   "source": [
    "# Depending on your hardware, this can take some time to fininsh.\n",
    "# You can reduce num_samples if it is taking too much time.\n",
    "\n",
    "print(\"[Spark] Pi is roughly:\", spark_pi_calc())"
   ]
  },
  {
   "cell_type": "code",
   "execution_count": 11,
   "metadata": {},
   "outputs": [
    {
     "name": "stdout",
     "output_type": "stream",
     "text": [
      "[Python] Pi is roughly: 3.1414856\n"
     ]
    }
   ],
   "source": [
    "# Depending on your hardware, this can take some time to fininsh.\n",
    "# You can reduce num_samples if it is taking too much time.\n",
    "\n",
    "print(\"[Python] Pi is roughly:\", python_pi_calc())"
   ]
  },
  {
   "cell_type": "markdown",
   "metadata": {},
   "source": [
    "Now, we use π calculation code to benchmark spark VS python. For small problems, python might work faster than spark because of the initial setup cost of spark. However, as the problem gets bigger, the spark code starts to show its benefit and runs faster than python.\n",
    "\n",
    "In the code below, we start from a small `num_samples` and keep doubling it until the python loop exceeds `max_time` (here it is set to 3 seconds by default). We collect running times for spark and python codes and produce a plot displaying time VS num_samples. \n",
    "\n",
    "We want you to play with the `max_time` parameter until the problem gets big enough so that you observe the spark code runs faster than the python code. This, of course, highly depends on the parallelization capacity of your CPU, and you may end up getting different results."
   ]
  },
  {
   "cell_type": "code",
   "execution_count": 12,
   "metadata": {},
   "outputs": [
    {
     "name": "stdout",
     "output_type": "stream",
     "text": [
      "Running experiment. This may take a few minutes to run.\n",
      "You can change max_time value to increase or decrease run time.\n",
      "(please wait)\n",
      "0 / 1000\n",
      "4 / 1000\n",
      "46 / 1000\n",
      "99 / 1000\n",
      "190 / 1000\n",
      "361 / 1000\n",
      "724 / 1000\n",
      "1000 / 1000\n",
      "Done! Total time = 164.54s\n"
     ]
    }
   ],
   "source": [
    "import timeit, time\n",
    "\n",
    "max_time = 10 # you can also try 1, 2, 5, and 10 depending on your hardware performance.\n",
    "\n",
    "print('Running experiment. This may take a few minutes to run.')\n",
    "print('You can change max_time value to increase or decrease run time.')\n",
    "print('(please wait)')\n",
    "\n",
    "num_samples = 10000\n",
    "steps = []\n",
    "python_times = []\n",
    "sparks_times = []\n",
    "\n",
    "def my_timeit(func):\n",
    "    runs = 3  # If the experiment is still taking too much time to run, you may decrease this value as well.\n",
    "    dtime = timeit.timeit(func, number=runs)\n",
    "    elapsed = dtime/runs\n",
    "    return elapsed\n",
    "\n",
    "start = time.time()\n",
    "while True:\n",
    "    pt = my_timeit(python_pi_calc)\n",
    "    st = my_timeit(spark_pi_calc)\n",
    "    python_times.append(pt)\n",
    "    sparks_times.append(st)\n",
    "    steps.append(num_samples)\n",
    "    print(min(int(pt * 100), max_time*100), '/', max_time*100)\n",
    "    if pt > max_time:\n",
    "        break\n",
    "        \n",
    "    if pt > max_time:\n",
    "        break\n",
    "    elif pt < 0.1:\n",
    "        num_samples = num_samples * 10\n",
    "    else:\n",
    "        num_samples = num_samples * 2\n",
    "print(f\"Done! Total time = {time.time()-start:.2f}s\")"
   ]
  },
  {
   "cell_type": "code",
   "execution_count": 13,
   "metadata": {},
   "outputs": [
    {
     "data": {
      "image/png": "[encoded data removed]",
      "text/plain": [
       "<Figure size 432x288 with 1 Axes>"
      ]
     },
     "metadata": {
      "needs_background": "light"
     },
     "output_type": "display_data"
    }
   ],
   "source": [
    "%matplotlib inline\n",
    "import matplotlib.pyplot as plt\n",
    "\n",
    "plt.figure()\n",
    "plt.plot(steps, python_times, color='red', label='python')\n",
    "plt.plot(steps, sparks_times, color='blue', label='spark')\n",
    "plt.legend()\n",
    "plt.xlabel('number of samples', fontsize=12)\n",
    "plt.ylabel('running time (seconds)', fontsize=12)\n",
    "plt.title('Speed benchmark (π calculation)')\n",
    "plt.show()"
   ]
  },
  {
   "cell_type": "markdown",
   "metadata": {},
   "source": [
    "__Question__: How does Spark run faster than (Pandas/Python) even on a single computer? What does the slope of the blue line in the generated plot tell you?"
   ]
  },
  {
   "cell_type": "markdown",
   "metadata": {},
   "source": [
    "The speed of Spark and Pandas are similar when the number of samples are very small, as the data size (num_samples) increases, Spark runs faster(around 1.4 times) than Python.\n",
    "The slope of the blue line tells me the running time for Spark that per sample used. As the data size increases, the scope increases a little which means the speed decreases a bit. "
   ]
  },
  {
   "cell_type": "markdown",
   "metadata": {},
   "source": [
    "__Hint__: If you pick a big enough value for the `num_samples` parameter (code below), you should be able to see multiple python processes running at the same time in your (system monitor/task manager) when benchmarking spark code (A)."
   ]
  },
  {
   "cell_type": "code",
   "execution_count": 14,
   "metadata": {},
   "outputs": [
    {
     "data": {
      "text/plain": [
       "3.141623128"
      ]
     },
     "execution_count": 14,
     "metadata": {},
     "output_type": "execute_result"
    }
   ],
   "source": [
    "# code (A) Spark \n",
    "# Depending on your hardware, this can take some time to fininsh.\n",
    "# You can reduce num_samples if it is taking too much time.\n",
    "\n",
    "num_samples = 1000000000\n",
    "spark_pi_calc()"
   ]
  },
  {
   "cell_type": "code",
   "execution_count": 15,
   "metadata": {},
   "outputs": [
    {
     "data": {
      "text/plain": [
       "3.14186132"
      ]
     },
     "execution_count": 15,
     "metadata": {},
     "output_type": "execute_result"
    }
   ],
   "source": [
    "# code (B) Python - List Comprehension\n",
    "# Depending on your hardware, this can take some time to fininsh.\n",
    "# You can reduce num_samples if it is taking too much time.\n",
    "\n",
    "num_samples = 100000000\n",
    "python_pi_calc()"
   ]
  },
  {
   "cell_type": "markdown",
   "metadata": {},
   "source": [
    "<br>\n",
    "<br>\n",
    "<img src=\"files/spark run.png\">\n",
    "\n",
    "<br>\n",
    "<br>\n",
    "This picture also demonstrates how Spark uses CPU VS python:\n",
    "<br>\n",
    "<br>\n",
    "\n",
    "<img src=\"files/spark cpu load.png\">"
   ]
  },
  {
   "cell_type": "markdown",
   "metadata": {},
   "source": [
    "<a id=\"rdd\"></a>\n",
    "## 3. Work with Resilient Distributed Datasets\n",
    "Spark uses an abstraction for working with data called a Resilient Distributed Dataset (RDD). An RDD is a collection of elements that can be operated on in parallel. RDDs are immutable, so you can't update the data in them. To update data in an RDD, you must create a new RDD. In Spark, all work is done by creating new RDDs, transforming existing RDDs, or using RDDs to compute results. When working with RDDs, the Spark driver application automatically distributes the work across the cluster.\n",
    "\n",
    "You can construct RDDs by parallelizing existing Python collections (lists), by manipulating RDDs, or by manipulating files in HDFS or any other storage system.\n",
    "\n",
    "You can run these types of methods on RDDs: \n",
    " - Actions: query the data and return values\n",
    " - Transformations: manipulate data values and return pointers to new RDDs. \n",
    "\n",
    "Find more information on Python methods in the <a href=\"http://spark.apache.org/docs/latest/api/python/pyspark.html\" target=\"_blank\" rel=\"noopener noreferrer\">PySpark documentation</a>.\n",
    "\n",
    "<a id=\"rdd1\"></a>\n",
    "### 3.1 Create a collection\n",
    "Create a Python collection of the numbers 1 - 10:"
   ]
  },
  {
   "cell_type": "code",
   "execution_count": 16,
   "metadata": {},
   "outputs": [],
   "source": [
    "x = [1, 2, 3, 4, 5, 6, 7, 8, 9, 10]"
   ]
  },
  {
   "cell_type": "markdown",
   "metadata": {},
   "source": [
    "<a id=\"rdd2\"></a>\n",
    "### 3.2 Create an RDD \n",
    "Put the collection into an RDD named `x_nbr_rdd` using the `parallelize` method:"
   ]
  },
  {
   "cell_type": "code",
   "execution_count": 17,
   "metadata": {},
   "outputs": [],
   "source": [
    "x_nbr_rdd = spark.sparkContext.parallelize(x)"
   ]
  },
  {
   "cell_type": "markdown",
   "metadata": {},
   "source": [
    "Notice that there's no return value. The `parallelize` method didn't compute a result, which means it's a transformation. Spark just recorded how to create the RDD."
   ]
  },
  {
   "cell_type": "markdown",
   "metadata": {},
   "source": [
    "<a id=\"rdd3\"></a>\n",
    "### 3.3 View the data \n",
    "View the first element in the RDD:"
   ]
  },
  {
   "cell_type": "code",
   "execution_count": 18,
   "metadata": {},
   "outputs": [
    {
     "data": {
      "text/plain": [
       "1"
      ]
     },
     "execution_count": 18,
     "metadata": {},
     "output_type": "execute_result"
    }
   ],
   "source": [
    "x_nbr_rdd.first()"
   ]
  },
  {
   "cell_type": "markdown",
   "metadata": {},
   "source": [
    "Each number in the collection is in a different element in the RDD. Because the `first()` method returned a value, it is an action. \n",
    "\n",
    "Now view the first five elements in the RDD:"
   ]
  },
  {
   "cell_type": "code",
   "execution_count": 19,
   "metadata": {},
   "outputs": [
    {
     "data": {
      "text/plain": [
       "[1, 2, 3, 4, 5]"
      ]
     },
     "execution_count": 19,
     "metadata": {},
     "output_type": "execute_result"
    }
   ],
   "source": [
    "x_nbr_rdd.take(5)"
   ]
  },
  {
   "cell_type": "markdown",
   "metadata": {},
   "source": [
    "<a id=\"rdd4\"></a>\n",
    "### 3.4 Create another RDD \n",
    "Create a Python collection that contains strings:"
   ]
  },
  {
   "cell_type": "code",
   "execution_count": 20,
   "metadata": {},
   "outputs": [],
   "source": [
    "y = [\"Hello Human\", \"My Name is Spark\"]"
   ]
  },
  {
   "cell_type": "markdown",
   "metadata": {},
   "source": [
    "Put the collection into an RDD:"
   ]
  },
  {
   "cell_type": "code",
   "execution_count": 21,
   "metadata": {},
   "outputs": [],
   "source": [
    "y_str_rdd = spark.sparkContext.parallelize(y)"
   ]
  },
  {
   "cell_type": "markdown",
   "metadata": {},
   "source": [
    "View the first element in the RDD:"
   ]
  },
  {
   "cell_type": "code",
   "execution_count": 22,
   "metadata": {},
   "outputs": [
    {
     "data": {
      "text/plain": [
       "['Hello Human']"
      ]
     },
     "execution_count": 22,
     "metadata": {},
     "output_type": "execute_result"
    }
   ],
   "source": [
    "y_str_rdd.take(1)"
   ]
  },
  {
   "cell_type": "markdown",
   "metadata": {},
   "source": [
    "You created the string \"Hello Human\" and you returned it as the first element of the RDD. To analyze a set of words, you can map each word into an RDD element."
   ]
  },
  {
   "cell_type": "markdown",
   "metadata": {},
   "source": [
    "<a id=\"trans\"></a>\n",
    "## 4. Manipulate data in RDDs\n",
    "\n",
    "Remember that to manipulate data, you use transformation functions.\n",
    "\n",
    "Here are some common Python transformation functions that you'll be using in this notebook:\n",
    "\n",
    " - `map(func)`: returns a new RDD with the results of running the specified function on each element  \n",
    " - `filter(func)`: returns a new RDD with the elements for which the specified function returns true   \n",
    " - `distinct([numTasks]))`: returns a new RDD that contains the distinct elements of the source RDD\n",
    " - `flatMap(func)`: returns a new RDD by first running the specified function on all elements, returning 0 or more results for each original element, and then flattening the results into individual elements\n",
    "\n",
    "You can also create functions that run a single expression and don't have a name with the Python `lambda` keyword. For example, this function returns the sum of its arguments: `lambda a , b : a + b`.\n",
    "\n",
    "<a id=\"trans1\"></a>\n",
    "### 4.1 Update numeric values\n",
    "Run the `map()` function with the `lambda` keyword to replace each element, X, in your first RDD (the one that has numeric values) with X+1. Because RDDs are immutable, you need to specify a new RDD name."
   ]
  },
  {
   "cell_type": "code",
   "execution_count": 23,
   "metadata": {},
   "outputs": [],
   "source": [
    "# TODO: Replace <FILL IN> with appropriate code\n",
    "\n",
    "x_nbr_rdd_2 = x_nbr_rdd.map(lambda x: x+1)"
   ]
  },
  {
   "cell_type": "markdown",
   "metadata": {},
   "source": [
    "Now look at the elements of the new RDD: "
   ]
  },
  {
   "cell_type": "code",
   "execution_count": 24,
   "metadata": {},
   "outputs": [
    {
     "data": {
      "text/plain": [
       "[2, 3, 4, 5, 6, 7, 8, 9, 10, 11]"
      ]
     },
     "execution_count": 24,
     "metadata": {},
     "output_type": "execute_result"
    }
   ],
   "source": [
    "x_nbr_rdd_2.collect()"
   ]
  },
  {
   "cell_type": "markdown",
   "metadata": {},
   "source": [
    "Be careful with the `collect` method! It returns __all__ elements of the RDD to the driver. Returning a large data set might be not be very useful. No-one wants to scroll through a million rows!"
   ]
  },
  {
   "cell_type": "markdown",
   "metadata": {},
   "source": [
    "<a id=\"trans2\"></a>\n",
    "### 4.2 Add numbers in an array\n",
    "An array of values is a common data format where multiple values are contained in one element. You can manipulate the individual values if you split them up into separate elements.\n",
    "\n",
    "Create an array of numbers by including quotation marks around the whole set of numbers. If you omit the quotation marks, you get a collection of numbers instead of an array."
   ]
  },
  {
   "cell_type": "code",
   "execution_count": 89,
   "metadata": {},
   "outputs": [],
   "source": [
    "X = [\"1,2,3,4,5,6,7,8,9,10\"]"
   ]
  },
  {
   "cell_type": "markdown",
   "metadata": {},
   "source": [
    "Create an RDD for the array:"
   ]
  },
  {
   "cell_type": "code",
   "execution_count": 122,
   "metadata": {},
   "outputs": [],
   "source": [
    "y_rd = spark.sparkContext.parallelize(X)"
   ]
  },
  {
   "cell_type": "markdown",
   "metadata": {},
   "source": [
    "Split the values at commas and add values in the positions 3 and 7 in the array. Keep in mind that an array starts with position 0. Use a backslash character, \\, to break the line of code for clarity."
   ]
  },
  {
   "cell_type": "code",
   "execution_count": 276,
   "metadata": {},
   "outputs": [],
   "source": [
    "# TODO: Replace <FILL IN> with appropriate code\n",
    "\n",
    "Sum_rd = y_rd.map(lambda y: y.split(',')).map(lambda y: int(y[3])+int(y[7]))"
   ]
  },
  {
   "cell_type": "markdown",
   "metadata": {},
   "source": [
    "Now return the value of the sum:"
   ]
  },
  {
   "cell_type": "code",
   "execution_count": 277,
   "metadata": {},
   "outputs": [
    {
     "data": {
      "text/plain": [
       "12"
      ]
     },
     "execution_count": 277,
     "metadata": {},
     "output_type": "execute_result"
    }
   ],
   "source": [
    "Sum_rd.first()"
   ]
  },
  {
   "cell_type": "markdown",
   "metadata": {},
   "source": [
    "You should get `12`."
   ]
  },
  {
   "cell_type": "markdown",
   "metadata": {},
   "source": [
    "<a id=\"trans3\"></a>\n",
    "### 4.3 Split and count text strings\n",
    "\n",
    "Create an RDD with a text string and show the first element:"
   ]
  },
  {
   "cell_type": "code",
   "execution_count": 59,
   "metadata": {},
   "outputs": [
    {
     "data": {
      "text/plain": [
       "\"Hello Human. I'm Spark and I love running analysis on data.\""
      ]
     },
     "execution_count": 59,
     "metadata": {},
     "output_type": "execute_result"
    }
   ],
   "source": [
    "Words = [\"Hello Human. I'm Spark and I love running analysis on data.\"]\n",
    "words_rd = spark.sparkContext.parallelize(Words)\n",
    "words_rd.first()"
   ]
  },
  {
   "cell_type": "markdown",
   "metadata": {},
   "source": [
    "Split the string into separate lines at the space characters and look at the first element:"
   ]
  },
  {
   "cell_type": "code",
   "execution_count": 60,
   "metadata": {},
   "outputs": [
    {
     "data": {
      "text/plain": [
       "['Hello',\n",
       " 'Human.',\n",
       " \"I'm\",\n",
       " 'Spark',\n",
       " 'and',\n",
       " 'I',\n",
       " 'love',\n",
       " 'running',\n",
       " 'analysis',\n",
       " 'on',\n",
       " 'data.']"
      ]
     },
     "execution_count": 60,
     "metadata": {},
     "output_type": "execute_result"
    }
   ],
   "source": [
    "# TODO: Replace <FILL IN> with appropriate code\n",
    "\n",
    "Words_rd2 = words_rd.map(lambda line: line.split())\n",
    "Words_rd2.first()"
   ]
  },
  {
   "cell_type": "markdown",
   "metadata": {},
   "source": [
    "Count the number of elements in this RDD with the `count()` method:"
   ]
  },
  {
   "cell_type": "code",
   "execution_count": 61,
   "metadata": {},
   "outputs": [
    {
     "data": {
      "text/plain": [
       "1"
      ]
     },
     "execution_count": 61,
     "metadata": {},
     "output_type": "execute_result"
    }
   ],
   "source": [
    "Words_rd2.count()"
   ]
  },
  {
   "cell_type": "markdown",
   "metadata": {},
   "source": [
    "You should get `1`."
   ]
  },
  {
   "cell_type": "markdown",
   "metadata": {},
   "source": [
    "Of course, you already knew that there was only one element because you ran the `first()` method and it returned the whole string. Splitting the string into multiple lines did not create multiple elements."
   ]
  },
  {
   "cell_type": "markdown",
   "metadata": {},
   "source": [
    "Now split the string again, but this time with the `flatmap()` method, and look at the first three elements:"
   ]
  },
  {
   "cell_type": "code",
   "execution_count": 62,
   "metadata": {},
   "outputs": [
    {
     "data": {
      "text/plain": [
       "['Hello', 'Human.', \"I'm\"]"
      ]
     },
     "execution_count": 62,
     "metadata": {},
     "output_type": "execute_result"
    }
   ],
   "source": [
    "# TODO: Replace <FILL IN> with appropriate code\n",
    "\n",
    "words_rd2 = words_rd.flatMap(lambda line: line.split())\n",
    "words_rd2.take(3)"
   ]
  },
  {
   "cell_type": "code",
   "execution_count": 63,
   "metadata": {},
   "outputs": [
    {
     "data": {
      "text/plain": [
       "11"
      ]
     },
     "execution_count": 63,
     "metadata": {},
     "output_type": "execute_result"
    }
   ],
   "source": [
    "words_rd2.count()"
   ]
  },
  {
   "cell_type": "markdown",
   "metadata": {},
   "source": [
    "You should get `11`.\n",
    "This time each word is separated into its own element."
   ]
  },
  {
   "cell_type": "markdown",
   "metadata": {},
   "source": [
    "<a id=\"trans4\"></a>\n",
    "### 4.4 Count words with a pair RDD\n",
    "A common way to count the number of instances of words in an RDD is to create a pair RDD. A pair RDD converts each word into a key-value pair: the word is the key and the number 1 is the value. Because the values are all 1, when you add the  values for a particular word, you get the number of instances of that word.\n",
    "\n",
    "Create an RDD:"
   ]
  },
  {
   "cell_type": "code",
   "execution_count": 64,
   "metadata": {},
   "outputs": [
    {
     "data": {
      "text/plain": [
       "'First,Line'"
      ]
     },
     "execution_count": 64,
     "metadata": {},
     "output_type": "execute_result"
    }
   ],
   "source": [
    "z = [\"First,Line\", \"Second,Line\", \"and,Third,Line\"]\n",
    "z_str_rdd = spark.sparkContext.parallelize(z)\n",
    "z_str_rdd.first()"
   ]
  },
  {
   "cell_type": "markdown",
   "metadata": {},
   "source": [
    "Split the elements into individual words with the `flatmap()` method:"
   ]
  },
  {
   "cell_type": "code",
   "execution_count": 65,
   "metadata": {},
   "outputs": [
    {
     "data": {
      "text/plain": [
       "['First', 'Line', 'Second', 'Line', 'and', 'Third', 'Line']"
      ]
     },
     "execution_count": 65,
     "metadata": {},
     "output_type": "execute_result"
    }
   ],
   "source": [
    "z_str_rdd_split_flatmap = z_str_rdd.flatMap(lambda line: line.split(\",\"))\n",
    "z_str_rdd_split_flatmap.collect()"
   ]
  },
  {
   "cell_type": "markdown",
   "metadata": {},
   "source": [
    "Convert the elements into key-value pairs:"
   ]
  },
  {
   "cell_type": "code",
   "execution_count": 66,
   "metadata": {},
   "outputs": [
    {
     "data": {
      "text/plain": [
       "[('First', 1),\n",
       " ('Line', 1),\n",
       " ('Second', 1),\n",
       " ('Line', 1),\n",
       " ('and', 1),\n",
       " ('Third', 1),\n",
       " ('Line', 1)]"
      ]
     },
     "execution_count": 66,
     "metadata": {},
     "output_type": "execute_result"
    }
   ],
   "source": [
    "countWords = z_str_rdd_split_flatmap.map(lambda word:(word,1))\n",
    "countWords.collect()"
   ]
  },
  {
   "cell_type": "markdown",
   "metadata": {},
   "source": [
    "Now sum all the values by key to find the number of instances for each word: "
   ]
  },
  {
   "cell_type": "code",
   "execution_count": 67,
   "metadata": {},
   "outputs": [
    {
     "data": {
      "text/plain": [
       "[('Line', 3), ('Second', 1), ('First', 1), ('and', 1), ('Third', 1)]"
      ]
     },
     "execution_count": 67,
     "metadata": {},
     "output_type": "execute_result"
    }
   ],
   "source": [
    "from operator import add\n",
    "countWords2 = countWords.reduceByKey(add)\n",
    "countWords2.collect()"
   ]
  },
  {
   "cell_type": "markdown",
   "metadata": {},
   "source": [
    "Notice that the word `Line` has a count of 3."
   ]
  },
  {
   "cell_type": "markdown",
   "metadata": {},
   "source": [
    "<a id=\"filter\"></a>\n",
    "## 5. Filter data\n",
    "\n",
    "The filter command creates a new RDD from another RDD based on a filter criteria.\n",
    "The filter syntax is: \n",
    "\n",
    "`.filter(lambda line: \"Filter Criteria Value\" in line)`\n",
    "\n",
    "Hint: Use a simple python `print` command to add a string to your Spark results and to run multiple actions in single cell.\n",
    "\n",
    "Find the number of instances of the word `Line` in the `z_str_rdd_split_flatmap` RDD:"
   ]
  },
  {
   "cell_type": "code",
   "execution_count": 100,
   "metadata": {},
   "outputs": [
    {
     "name": "stdout",
     "output_type": "stream",
     "text": [
      "The count of words Line\n",
      "Is: 3\n"
     ]
    }
   ],
   "source": [
    "# TODO: Replace <FILL IN> with appropriate code\n",
    "\n",
    "words_rd3 = z_str_rdd_split_flatmap.filter(lambda line: \"Line\" in line) \n",
    "\n",
    "print (\"The count of words \" + str(words_rd3.first()))\n",
    "print (\"Is: \" + str(words_rd3.count()))"
   ]
  },
  {
   "cell_type": "markdown",
   "metadata": {},
   "source": [
    "You should get `3`."
   ]
  },
  {
   "cell_type": "markdown",
   "metadata": {},
   "source": [
    "<a id=\"wordfile\"></a>\n",
    "## 6. Analyze text data from a file\n",
    "In this section, you'll use a text file `README.txt` to create an RDD from it, and analyze the text in it. The file should already exist on `files`folder next to this notebook."
   ]
  },
  {
   "cell_type": "markdown",
   "metadata": {},
   "source": [
    "<a id=\"wordfile2\"></a>\n",
    "### 6.2 Create an RDD from the file\n",
    "Use the `textFile` method to create an RDD named `textfile_rdd` based on the `README.txt` file. The RDD will contain one element for each line in the `README.txt` file.\n",
    "Also, count the number of lines in the RDD, which is the same as the number of lines in the text file. "
   ]
  },
  {
   "cell_type": "code",
   "execution_count": 101,
   "metadata": {},
   "outputs": [
    {
     "data": {
      "text/plain": [
       "98"
      ]
     },
     "execution_count": 101,
     "metadata": {},
     "output_type": "execute_result"
    }
   ],
   "source": [
    "textfile_rdd = spark.sparkContext.textFile(\"files/README.txt\")\n",
    "textfile_rdd.count()"
   ]
  },
  {
   "cell_type": "markdown",
   "metadata": {},
   "source": [
    "<a id=\"wordfile3\"></a>\n",
    "### 6.3 Filter for a word \n",
    "Filter the RDD to keep only the elements that contain the word \"Spark\" with the `filter` transformation:"
   ]
  },
  {
   "cell_type": "code",
   "execution_count": 102,
   "metadata": {},
   "outputs": [
    {
     "data": {
      "text/plain": [
       "'# Apache Spark'"
      ]
     },
     "execution_count": 102,
     "metadata": {},
     "output_type": "execute_result"
    }
   ],
   "source": [
    "# TODO: Replace <FILL IN> with appropriate code\n",
    "\n",
    "Spark_lines = textfile_rdd.filter(lambda line: \"Spark\" in line)\n",
    "Spark_lines.first()"
   ]
  },
  {
   "cell_type": "markdown",
   "metadata": {},
   "source": [
    "You should see `'# Apache Spark'`"
   ]
  },
  {
   "cell_type": "markdown",
   "metadata": {},
   "source": [
    "Count the number of elements in this filtered RDD and present the result as a concatenated string:"
   ]
  },
  {
   "cell_type": "code",
   "execution_count": 103,
   "metadata": {},
   "outputs": [
    {
     "name": "stdout",
     "output_type": "stream",
     "text": [
      "The file README.txt has 19 of 98 Lines with word Spark in it.\n"
     ]
    }
   ],
   "source": [
    "# TODO: Replace <FILL IN> with appropriate code\n",
    "\n",
    "print (\"The file README.txt has \" + str(Spark_lines.count()) + \\\n",
    "\" of \" + str(textfile_rdd.count()) + \\\n",
    "\" Lines with word Spark in it.\")"
   ]
  },
  {
   "cell_type": "markdown",
   "metadata": {},
   "source": [
    "You should see `The file README.txt has 19 of 98 Lines with word Spark in it.`"
   ]
  },
  {
   "cell_type": "markdown",
   "metadata": {},
   "source": [
    "<a id=\"wordfile4\"></a>\n",
    "### 6.4 Count the instances of a string at the beginning of words\n",
    "Count the number of times the substring \"Spark\" appears at the beginning of a word in the original text.\n",
    "\n",
    "Here's what you need to do: \n",
    "\n",
    "1. Run a `flatMap` transformation on the Spark_lines RDD and split on white spaces.\n",
    "2. Create an RDD with key-value pairs where the first element of the tuple is the word and the second element is the number 1.\n",
    "3. Run a `reduceByKey` method with the `add` function to count the number of instances of each word.<br>\n",
    "4. Filter the resulting RDD to keep only the elements that start with the word \"Spark\". In Python, the syntax to determine whether a string starts with a token is: `string.startswith(\"token\")` \n",
    "5. Display the resulting list of elements that start with \"Spark\"."
   ]
  },
  {
   "cell_type": "code",
   "execution_count": 144,
   "metadata": {},
   "outputs": [
    {
     "data": {
      "text/plain": [
       "[('Spark', 14),\n",
       " ('Spark\"](http://spark.apache.org/docs/latest/building-spark.html).', 1),\n",
       " ('SparkPi', 2),\n",
       " ('Spark](#building-spark).', 1),\n",
       " ('Spark.', 1)]"
      ]
     },
     "execution_count": 144,
     "metadata": {},
     "output_type": "execute_result"
    }
   ],
   "source": [
    "# TODO: write your code here.\n",
    "Spark_lines_flatmap = Spark_lines.flatMap(lambda line: line.split(\" \"))\n",
    "pairwords = Spark_lines_flatmap.map(lambda word:(word,1))\n",
    "countwords = pairwords.reduceByKey(add)\n",
    "filterwords1 = countwords.filter(lambda line: line[0].startswith('Spark')) # the element should be string\n",
    "filterwords1.collect()"
   ]
  },
  {
   "cell_type": "markdown",
   "metadata": {},
   "source": [
    "You should see:<br>\n",
    "<pre>\n",
    "[('Spark', 14),\n",
    " ('Spark\"](http://spark.apache.org/docs/latest/building-spark.html).', 1),\n",
    " ('SparkPi', 2),\n",
    " ('Spark](#building-spark).', 1),\n",
    " ('Spark.', 1)]\n",
    "</pre>"
   ]
  },
  {
   "cell_type": "markdown",
   "metadata": {},
   "source": [
    "<a id=\"wordfile5\"></a>\n",
    "### 6.5 Count instances of a string within words\n",
    "Now filter and display the elements that contain the substring \"Spark\" anywhere in the word, instead of just at the beginning of words like the last section. Your result should be a superset of the previous result.\n",
    "\n",
    "The Python syntax to determine whether a string contains a particular token is: `\"token\" in string`"
   ]
  },
  {
   "cell_type": "code",
   "execution_count": 145,
   "metadata": {},
   "outputs": [
    {
     "data": {
      "text/plain": [
       "[('Spark', 14),\n",
       " ('Spark\"](http://spark.apache.org/docs/latest/building-spark.html).', 1),\n",
       " ('SparkPi', 2),\n",
       " ('Spark](#building-spark).', 1),\n",
       " ('Spark.', 1),\n",
       " ('tests](https://cwiki.apache.org/confluence/display/SPARK/Contributing+to+Spark#ContributingtoSpark-AutomatedTesting).',\n",
       "  1)]"
      ]
     },
     "execution_count": 145,
     "metadata": {},
     "output_type": "execute_result"
    }
   ],
   "source": [
    "# TODO: write your code here.\n",
    "filterwords2 = countwords.filter(lambda line: 'Spark' in line[0]) # the element should be string\n",
    "filterwords2.collect()"
   ]
  },
  {
   "cell_type": "markdown",
   "metadata": {},
   "source": [
    "You should see:\n",
    "<pre>\n",
    "[('Spark', 14),\n",
    " ('Spark\"](http://spark.apache.org/docs/latest/building-spark.html).', 1),\n",
    " ('SparkPi', 2),\n",
    " ('Spark](#building-spark).', 1),\n",
    " ('Spark.', 1),\n",
    " ('tests](https://cwiki.apache.org/confluence/display/SPARK/Contributing+to+Spark#ContributingtoSpark-AutomatedTesting).',\n",
    "  1)]\n",
    "</pre>"
   ]
  },
  {
   "cell_type": "markdown",
   "metadata": {},
   "source": [
    "<a id=\"numfile\"></a>\n",
    "## 7. Analyze numeric data from a file\n",
    "You'll analyze a sample file `Scores.txt` given in `files` folder that contains instructor names and scores. The file has the following format: Instructor Name,Score1,Score2,Score3,Score4,... The number of scores for each instructor could be diferent.\n",
    "Here is an example line from the text file: \"Carlo,5.5,3,3,4\" or \"Pablo,9,10,8.6,7,9,5,6\"\n",
    "Your task is to look at all the scores from each instructor and find the maximum score given by each instructor:\n",
    "\n",
    "1. Load the text file into an RDD.\n",
    "1. Run a transformation to create an RDD with the instructor names and the scores per instructor.\n",
    "1. Run a second transformation to compute the maximum score for each instructor.\n",
    "1. Display the results."
   ]
  },
  {
   "cell_type": "code",
   "execution_count": 160,
   "metadata": {},
   "outputs": [
    {
     "data": {
      "text/plain": [
       "[('Tobias', 8.0),\n",
       " ('Malin', 5.7),\n",
       " ('Ali', 8.7),\n",
       " ('Magnus', 5.0),\n",
       " ('Alice', 9.1),\n",
       " ('Jack', 7.4)]"
      ]
     },
     "execution_count": 160,
     "metadata": {},
     "output_type": "execute_result"
    }
   ],
   "source": [
    "# TODO: write your code here.\n",
    "scores_rdd = spark.sparkContext.textFile(\"files/Scores.txt\")\n",
    "scores_flatmap = scores_rdd.flatMap(lambda line: line.split(\", \"))\n",
    "pair = scores_flatmap.map(lambda line:(line.split(\",\")[0],float(max(line.split(\",\")[1:]))))\n",
    "pair.collect()"
   ]
  },
  {
   "cell_type": "markdown",
   "metadata": {},
   "source": [
    "You should see:\n",
    "<pre>\n",
    "[('Tobias', 8.0),\n",
    " ('Malin', 10.0),\n",
    " ('Ali', 8.7),\n",
    " ('Magnus', 5.0),\n",
    " ('Alice', 9.1),\n",
    " ('Jack', 7.4)]\n",
    "</pre>"
   ]
  },
  {
   "cell_type": "markdown",
   "metadata": {},
   "source": [
    "## 8. PageRank Algorithm\n",
    "\n",
    "In the final task, we are interested in using Spark to rank a list of websites based on their importance. One obvious application of such an analysis is to provide the ordering for web searches. To measure the importance of a page, you are tasked to calculate `PageRank`. PageRank works by counting the number and quality of links to a page to determine a rough estimate of how important the website is. The underlying assumption is that more important websites are likely to receive more links from other websites. The PageRank algorithm is very well described in Chapter 5 of the book `Mining Massive Data Sets`. You can access the book through [this link](http://www.mmds.org/).\n",
    "\n",
    "The websites are stored in a file named `urls.txt` located in the `files` folder. The input file has the following format:\n",
    "\n",
    "<pre>\n",
    "URL, neighbor URL\n",
    "URL, neighbor URL\n",
    "URL, neighbor URL\n",
    "...\n",
    "</pre>\n",
    "\n",
    "\n",
    "In the output, sort the websites descending based on their level of importance."
   ]
  },
  {
   "cell_type": "code",
   "execution_count": 259,
   "metadata": {},
   "outputs": [],
   "source": [
    "# TODO: write your code here.\n",
    "def split_urls(urls):\n",
    "    webs = urls.split(\",\")\n",
    "    return webs[0],webs[1]\n",
    "    \n",
    "def compute_Contribs(urls, rank):\n",
    "    num_urls = len(urls)\n",
    "    contribution = float(rank)/num_urls\n",
    "    newrank = []\n",
    "    for url in urls:\n",
    "        newrank.append((url, contribution))\n",
    "    return newrank"
   ]
  },
  {
   "cell_type": "code",
   "execution_count": 260,
   "metadata": {},
   "outputs": [],
   "source": [
    "urls_rdd = spark.sparkContext.textFile(\"files/urls_link.txt\")\n",
    "links = urls_rdd.map(lambda line : split_urls(line)).distinct().groupByKey().mapValues(lambda x: list(x)).cache()\n",
    "ranks = links.map(lambda line: (line[0], 1))\n",
    "#links.collect()"
   ]
  },
  {
   "cell_type": "code",
   "execution_count": 261,
   "metadata": {},
   "outputs": [],
   "source": [
    "#ranks.collect()"
   ]
  },
  {
   "cell_type": "code",
   "execution_count": 262,
   "metadata": {},
   "outputs": [],
   "source": [
    "# Calculates and updates ranks\n",
    "s = 0.85\n",
    "for iteration in range(20):\n",
    "    linksRank =  links.join(ranks)\n",
    "    contribs = linksRank.flatMap(lambda line: compute_Contribs(line[1][0], line[1][1]))\n",
    "    sumranks = contribs.reduceByKey(lambda v1, v2: v1 + v2)\n",
    "    pageranks = sumranks.map(lambda x: (x[0],(1-s)+s*x[1]))\n",
    "#pageranks.collect()"
   ]
  },
  {
   "cell_type": "code",
   "execution_count": 263,
   "metadata": {},
   "outputs": [],
   "source": [
    "pageRanks = pageranks.sortBy(lambda x: x[1],ascending=False)\n",
    "#pageRanks.collect()"
   ]
  },
  {
   "cell_type": "code",
   "execution_count": 264,
   "metadata": {},
   "outputs": [
    {
     "name": "stdout",
     "output_type": "stream",
     "text": [
      "1)  wikipedia.org PageRank: 1.7734207459207458.\n",
      "2)  google.com PageRank: 1.7734207459207458.\n",
      "3)  youtube.com PageRank: 1.6671707459207457.\n",
      "4)  facebook.com PageRank: 1.6307634032634035.\n",
      "5)  twitter.com PageRank: 1.5821707459207461.\n",
      "6)  amazon.com PageRank: 1.3720318570318573.\n",
      "7)  imdb.com PageRank: 1.261059634809635.\n",
      "8)  merriam-webster.com PageRank: 1.1876010101010102.\n",
      "9)  apple.com PageRank: 1.0343929681429682.\n",
      "10)  fandom.com PageRank: 0.9477583527583529.\n",
      "11)  tripadvisor.com PageRank: 0.8114578477078477.\n",
      "12)  wiktionary.org PageRank: 0.7948475135975136.\n",
      "13)  yelp.com PageRank: 0.6201252913752913.\n",
      "14)  urbandictionary.com PageRank: 0.6151388888888889.\n",
      "15)  instagram.com PageRank: 0.5546581196581197.\n",
      "16)  blocket.se PageRank: 0.45793512043512047.\n",
      "17)  hh.se PageRank: 0.38538461538461544.\n",
      "18)  halmstad.se PageRank: 0.2862179487179487.\n",
      "19)  visithalland.com PageRank: 0.24444444444444446.\n"
     ]
    }
   ],
   "source": [
    "i = 0\n",
    "for (link, rank) in pageRanks.collect():\n",
    "    i = i + 1\n",
    "    print(str(i) + \") %s PageRank: %s.\" % (link, rank))"
   ]
  },
  {
   "cell_type": "markdown",
   "metadata": {},
   "source": [
    "The `PageRank` algorithm has some variants. Based on how you implement the algorithm and what parameters you choose, you will end up geting different scores and ranks. Following is one example output:\n",
    "\n",
    "<pre>\n",
    "1) google.com PageRank:1.8086487117025336\n",
    "2) wikipedia.org PageRank:1.8086487117025336\n",
    "3) facebook.com PageRank:1.777648228912891\n",
    "4) youtube.com PageRank:1.7021245199883723\n",
    "5) twitter.com PageRank:1.5510244219266531\n",
    "6) amazon.com PageRank:1.3904212544003804\n",
    "7) imdb.com PageRank:1.3008511398069642\n",
    "8) merriam-webster.com PageRank:1.1146111418335307\n",
    "9) fandom.com PageRank:1.002580594391505\n",
    "10) tripadvisor.com PageRank:0.9650177901770668\n",
    "11) apple.com PageRank:0.889833856208652\n",
    "12) urbandictionary.com PageRank:0.783325788483356\n",
    "13) wiktionary.org PageRank:0.7344188304535614\n",
    "14) instagram.com PageRank:0.488708566583417\n",
    "15) blocket.se PageRank:0.4475515972949302\n",
    "16) yelp.com PageRank:0.40433532158209406\n",
    "17) hh.se PageRank:0.3986772304305001\n",
    "18) visithalland.com PageRank:0.2340398586683635\n",
    "19) halmstad.se PageRank:0.19753243545269022\n",
    "</pre>"
   ]
  },
  {
   "cell_type": "markdown",
   "metadata": {},
   "source": [
    "<div class=\"alert alert-block alert-danger\">\n",
    "\n",
    "__IMPORTANT__ \n",
    "\n",
    "Please complete this Jupyter Notebook file and send it to mahmoud.rahat@hh.se within __two weeks__ after this lab session. Make sure that you include \"__Big Data Parallel Programming 2020__\" in your email title and write the name of the lab in the title of your email, e.g., Lab1 (do not put space between Lab and its number). __Change the name of your notebook file__ to include the `course title`, `lab title`, `first and last names` of you and your group mates, if any, e.g., \"`BDPP_Lab1_NameSurname_NameSurname.ipynb`\".\n",
    "\n",
    "</div>"
   ]
  }
 ],
 "metadata": {
  "kernelspec": {
   "display_name": "Python 3",
   "language": "python",
   "name": "python3"
  },
  "language_info": {
   "codemirror_mode": {
    "name": "ipython",
    "version": 3
   },
   "file_extension": ".py",
   "mimetype": "text/x-python",
   "name": "python",
   "nbconvert_exporter": "python",
   "pygments_lexer": "ipython3",
   "version": "3.7.6"
  }
 },
 "nbformat": 4,
 "nbformat_minor": 1
}
